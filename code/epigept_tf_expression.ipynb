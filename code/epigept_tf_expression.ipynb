{
 "cells": [
  {
   "cell_type": "code",
   "execution_count": 1,
   "id": "f452f97b-73f8-4c0e-8773-49bc156980c2",
   "metadata": {},
   "outputs": [],
   "source": [
    "import numpy as np\n",
    "import pandas as pd\n",
    "import qnorm"
   ]
  },
  {
   "cell_type": "code",
   "execution_count": 2,
   "id": "0b11f33b-74ab-468f-860a-ca2f8faaa0fd",
   "metadata": {},
   "outputs": [],
   "source": [
    "ref_tf_expressions = pd.read_csv('reference_tf/reference_TPM_tf_expr.csv',header=0,sep='\\t',index_col=[0])\n",
    "\n",
    "ref = qnorm.quantile_normalize(ref_tf_expressions).mean(axis=1)"
   ]
  },
  {
   "cell_type": "code",
   "execution_count": 3,
   "id": "a5f85087-d8de-4fac-82fc-8553b62ddd53",
   "metadata": {},
   "outputs": [
    {
     "data": {
      "text/plain": [
       "(600, 2891)"
      ]
     },
     "execution_count": 3,
     "metadata": {},
     "output_type": "execute_result"
    }
   ],
   "source": [
    "corgi_samples = np.load('/project/deeprna_data/pretraining_data_final2/tf_expression.npy')\n",
    "corgi_samples = ((corgi_samples - 1) ** 10) - 0.1 # undo the log transform, convert to raw tpm\n",
    "corgi_samples.shape"
   ]
  },
  {
   "cell_type": "code",
   "execution_count": 4,
   "id": "68e5c00e-3da5-4882-af83-471457db7d67",
   "metadata": {},
   "outputs": [],
   "source": [
    "with open('/project/deeprna/data/tf_genes/trans_regulators_final_hgnc.txt', 'r') as f:\n",
    "    tf_list = f.read().strip().split()"
   ]
  },
  {
   "cell_type": "code",
   "execution_count": 5,
   "id": "eecbc2ec-3f42-4e5e-94ea-c39ff832785b",
   "metadata": {},
   "outputs": [
    {
     "data": {
      "text/plain": [
       "695"
      ]
     },
     "execution_count": 5,
     "metadata": {},
     "output_type": "execute_result"
    }
   ],
   "source": [
    "tf_intersection = {x:i for i,x in enumerate(tf_list) if x in ref_tf_expressions.index}\n",
    "len(tf_intersection)"
   ]
  },
  {
   "cell_type": "code",
   "execution_count": 6,
   "id": "aaa69170-1780-407b-af67-195d3be87198",
   "metadata": {},
   "outputs": [
    {
     "data": {
      "text/html": [
       "<div>\n",
       "<style scoped>\n",
       "    .dataframe tbody tr th:only-of-type {\n",
       "        vertical-align: middle;\n",
       "    }\n",
       "\n",
       "    .dataframe tbody tr th {\n",
       "        vertical-align: top;\n",
       "    }\n",
       "\n",
       "    .dataframe thead th {\n",
       "        text-align: right;\n",
       "    }\n",
       "</style>\n",
       "<table border=\"1\" class=\"dataframe\">\n",
       "  <thead>\n",
       "    <tr style=\"text-align: right;\">\n",
       "      <th></th>\n",
       "      <th>1</th>\n",
       "    </tr>\n",
       "  </thead>\n",
       "  <tbody>\n",
       "    <tr>\n",
       "      <th>AFP</th>\n",
       "      <td>4.180882</td>\n",
       "    </tr>\n",
       "    <tr>\n",
       "      <th>AHR</th>\n",
       "      <td>3.719742</td>\n",
       "    </tr>\n",
       "    <tr>\n",
       "      <th>AIRE</th>\n",
       "      <td>0.540725</td>\n",
       "    </tr>\n",
       "    <tr>\n",
       "      <th>ALX1</th>\n",
       "      <td>10.196103</td>\n",
       "    </tr>\n",
       "    <tr>\n",
       "      <th>ALX3</th>\n",
       "      <td>2.196550</td>\n",
       "    </tr>\n",
       "  </tbody>\n",
       "</table>\n",
       "</div>"
      ],
      "text/plain": [
       "              1\n",
       "AFP    4.180882\n",
       "AHR    3.719742\n",
       "AIRE   0.540725\n",
       "ALX1  10.196103\n",
       "ALX3   2.196550"
      ]
     },
     "execution_count": 6,
     "metadata": {},
     "output_type": "execute_result"
    }
   ],
   "source": [
    "# Tissue 124 (brain)\n",
    "\n",
    "tissue_124 = pd.DataFrame(index=ref_tf_expressions.index, columns=['1'])\n",
    "tissue_124.loc[list(tf_intersection), '1'] = corgi_samples[124, list(tf_intersection.values())]\n",
    "tissue_124 = tissue_124.fillna(0)\n",
    "tissue_124 = qnorm.quantile_normalize(tissue_124, target=ref.values)\n",
    "tissue_124.head()"
   ]
  },
  {
   "cell_type": "code",
   "execution_count": 7,
   "id": "aaeabf8b-20b2-4865-a4bf-4941a286369c",
   "metadata": {},
   "outputs": [],
   "source": [
    "tissue_124.to_csv('/project/deeprna_data/epigept/corgi_benchmark/tissue_124_qn.csv')"
   ]
  },
  {
   "cell_type": "code",
   "execution_count": 8,
   "id": "cc7bb0ca-5c17-4144-8a65-f6f1dfa9e0c4",
   "metadata": {},
   "outputs": [
    {
     "data": {
      "text/html": [
       "<div>\n",
       "<style scoped>\n",
       "    .dataframe tbody tr th:only-of-type {\n",
       "        vertical-align: middle;\n",
       "    }\n",
       "\n",
       "    .dataframe tbody tr th {\n",
       "        vertical-align: top;\n",
       "    }\n",
       "\n",
       "    .dataframe thead th {\n",
       "        text-align: right;\n",
       "    }\n",
       "</style>\n",
       "<table border=\"1\" class=\"dataframe\">\n",
       "  <thead>\n",
       "    <tr style=\"text-align: right;\">\n",
       "      <th></th>\n",
       "      <th>1</th>\n",
       "    </tr>\n",
       "  </thead>\n",
       "  <tbody>\n",
       "    <tr>\n",
       "      <th>AFP</th>\n",
       "      <td>3.436351</td>\n",
       "    </tr>\n",
       "    <tr>\n",
       "      <th>AHR</th>\n",
       "      <td>22.262956</td>\n",
       "    </tr>\n",
       "    <tr>\n",
       "      <th>AIRE</th>\n",
       "      <td>5.898566</td>\n",
       "    </tr>\n",
       "    <tr>\n",
       "      <th>ALX1</th>\n",
       "      <td>10.170887</td>\n",
       "    </tr>\n",
       "    <tr>\n",
       "      <th>ALX3</th>\n",
       "      <td>10.170887</td>\n",
       "    </tr>\n",
       "  </tbody>\n",
       "</table>\n",
       "</div>"
      ],
      "text/plain": [
       "              1\n",
       "AFP    3.436351\n",
       "AHR   22.262956\n",
       "AIRE   5.898566\n",
       "ALX1  10.170887\n",
       "ALX3  10.170887"
      ]
     },
     "execution_count": 8,
     "metadata": {},
     "output_type": "execute_result"
    }
   ],
   "source": [
    "# Tissue 192 (heart)\n",
    "\n",
    "tissue_192 = pd.DataFrame(index=ref_tf_expressions.index, columns=['1'])\n",
    "tissue_192.loc[list(tf_intersection), '1'] = corgi_samples[192, list(tf_intersection.values())]\n",
    "tissue_192 = tissue_192.fillna(0)\n",
    "tissue_192 = qnorm.quantile_normalize(tissue_192, target=ref.values)\n",
    "tissue_192.head()"
   ]
  },
  {
   "cell_type": "code",
   "execution_count": 9,
   "id": "f1f7d056-e051-4b47-97bb-33801a6df032",
   "metadata": {},
   "outputs": [],
   "source": [
    "tissue_192.to_csv('/project/deeprna_data/epigept/corgi_benchmark/tissue_192_qn.csv')"
   ]
  },
  {
   "cell_type": "code",
   "execution_count": 16,
   "id": "98040afc-2b04-4016-a649-145853683e74",
   "metadata": {},
   "outputs": [
    {
     "name": "stdout",
     "output_type": "stream",
     "text": [
      "213               1\n",
      "AFP    5.359495\n",
      "AHR   28.667548\n",
      "AIRE   5.780752\n",
      "ALX1   2.523568\n",
      "ALX3  12.416238\n",
      "277               1\n",
      "AFP    6.068110\n",
      "AHR    7.931629\n",
      "AIRE  19.447317\n",
      "ALX1  19.447317\n",
      "ALX3  19.447317\n",
      "323               1\n",
      "AFP    8.800755\n",
      "AHR   13.248534\n",
      "AIRE   6.121095\n",
      "ALX1  11.298947\n",
      "ALX3  10.290151\n",
      "59               1\n",
      "AFP    4.180882\n",
      "AHR    5.646183\n",
      "AIRE  14.729605\n",
      "ALX1   5.646183\n",
      "ALX3  14.729605\n"
     ]
    }
   ],
   "source": [
    "for tissue in [213, 277, 323, 59]:\n",
    "    tissue_192 = pd.DataFrame(index=ref_tf_expressions.index, columns=['1'])\n",
    "    tissue_192.loc[list(tf_intersection), '1'] = corgi_samples[tissue, list(tf_intersection.values())]\n",
    "    tissue_192 = tissue_192.fillna(0)\n",
    "    tissue_192 = qnorm.quantile_normalize(tissue_192, target=ref.values)\n",
    "    print(tissue, tissue_192.head())\n",
    "    tissue_192.to_csv(f'/project/deeprna_data/epigept/corgi_benchmark/tissue_{tissue}_qn.csv')\n",
    "    "
   ]
  },
  {
   "cell_type": "markdown",
   "id": "749d52b5-7045-4461-a09c-79673e8c6ef7",
   "metadata": {},
   "source": [
    "## Bed file for epigept input"
   ]
  },
  {
   "cell_type": "code",
   "execution_count": 10,
   "id": "5dc85661-67d6-4fa6-90cc-32e51503a78b",
   "metadata": {},
   "outputs": [],
   "source": [
    "def parse_bed_file_with_coords(bed_path):\n",
    "    \"\"\"\n",
    "    Parse a BED file and return a list of tuples (chr, start, end).\n",
    "    Assumes no header and at least three columns.\n",
    "    \"\"\"\n",
    "    df = pd.read_csv(bed_path, sep='\\t', header=None, names=[\"chr\", \"start\", \"end\", \"fold\"])\n",
    "    coords = []\n",
    "    for _, row in df.iterrows():\n",
    "        coords.append((row[\"chr\"], int(row[\"start\"]), int(row[\"end\"])))\n",
    "    return coords\n",
    "\n",
    "def tile_region(chrom, start, end, sequence_length, stride, drop_last=True):\n",
    "    \"\"\"\n",
    "    Given a region defined by (chrom, start, end),\n",
    "    create tiles of length sequence_length with the given stride.\n",
    "    Returns a list of tuples: (chrom, tile_start, tile_end)\n",
    "    \"\"\"\n",
    "    tiles = []\n",
    "    region_length = end - start\n",
    "    if region_length < sequence_length:\n",
    "        return tiles\n",
    "    current_start = start\n",
    "    while current_start + sequence_length <= end:\n",
    "        tiles.append((chrom, str(current_start), str(current_start + sequence_length)))\n",
    "        current_start += stride\n",
    "    # Optionally, if drop_last is False, add a shifted tile.\n",
    "    return tiles\n",
    "\n",
    "def tile_regions(regions, sequence_length, stride, drop_last=True):\n",
    "    \"\"\"\n",
    "    For a list of regions (each as (chr, start, end)), return all tiles.\n",
    "    \"\"\"\n",
    "    tiled = []\n",
    "    for region in regions:\n",
    "        chrom, start, end = region\n",
    "        tiled.extend(tile_region(chrom, start, end, sequence_length, stride, drop_last))\n",
    "    return tiled"
   ]
  },
  {
   "cell_type": "code",
   "execution_count": 11,
   "id": "ec63dfb5-2729-46a2-aa5e-2a7714bba907",
   "metadata": {},
   "outputs": [
    {
     "data": {
      "text/plain": [
       "2224"
      ]
     },
     "execution_count": 11,
     "metadata": {},
     "output_type": "execute_result"
    }
   ],
   "source": [
    "bed = parse_bed_file_with_coords('/project/deeprna/benchmark/fold3_notf_merged.bed')\n",
    "\n",
    "tiles = tile_regions(bed, 128000, 128000)\n",
    "\n",
    "len(tiles)"
   ]
  },
  {
   "cell_type": "code",
   "execution_count": 12,
   "id": "ef44e0ab-5b01-4bd5-8104-d53c6ab6dd1a",
   "metadata": {},
   "outputs": [],
   "source": [
    "with open('/project/deeprna_data/epigept/fold3_notf_epigept.bed', 'w') as f:\n",
    "    f.write('\\n'.join(['\\t'.join(x) for x in tiles]))"
   ]
  },
  {
   "cell_type": "code",
   "execution_count": 13,
   "id": "677df949-bfd2-4f50-9188-46c42b5eec75",
   "metadata": {},
   "outputs": [
    {
     "data": {
      "text/plain": [
       "209"
      ]
     },
     "execution_count": 13,
     "metadata": {},
     "output_type": "execute_result"
    }
   ],
   "source": [
    "tiles2 = tile_regions([(x,y,z) for (x,y,z) in bed if x == 'chr8'], 128000, 128000)\n",
    "len(tiles2)"
   ]
  },
  {
   "cell_type": "code",
   "execution_count": 14,
   "id": "c0609419-7141-4ed2-9ae5-1fd38b815a9b",
   "metadata": {},
   "outputs": [],
   "source": [
    "for i in range(4):\n",
    "    with open(f'/project/deeprna_data/epigept/fold3_notf_epigept_chr8_{i}.bed', 'w') as f:\n",
    "        f.write('\\n'.join(['\\t'.join(x) for x in tiles2[i*50:(i+1)*50]]))"
   ]
  }
 ],
 "metadata": {
  "kernelspec": {
   "display_name": "Python 3 (ipykernel)",
   "language": "python",
   "name": "python3"
  },
  "language_info": {
   "codemirror_mode": {
    "name": "ipython",
    "version": 3
   },
   "file_extension": ".py",
   "mimetype": "text/x-python",
   "name": "python",
   "nbconvert_exporter": "python",
   "pygments_lexer": "ipython3",
   "version": "3.11.7"
  }
 },
 "nbformat": 4,
 "nbformat_minor": 5
}
