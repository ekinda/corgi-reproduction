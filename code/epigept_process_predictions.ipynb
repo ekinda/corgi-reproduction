{
 "cells": [
  {
   "cell_type": "code",
   "execution_count": 1,
   "id": "7e4254eb-39da-4393-b0ed-09cfb91b3cca",
   "metadata": {},
   "outputs": [],
   "source": [
    "import numpy as np\n",
    "import pandas as pd\n",
    "import subprocess\n",
    "import os\n",
    "import re\n",
    "import glob"
   ]
  },
  {
   "cell_type": "code",
   "execution_count": 2,
   "id": "bc84ad8e-e360-4c1b-bdbd-f0a8ea2d7500",
   "metadata": {},
   "outputs": [],
   "source": [
    "def process_predictions(raw_pred, assay, outdir, filename, chrom_sizes='/project/deeprna/data/hg38/hg38.chrom.sizes'):\n",
    "    out_bg = f'{outdir}/{filename}_{assay}.bedgraph'\n",
    "    out_bw = f'{outdir}/{filename}_{assay}.bw'\n",
    "    df = raw_pred[assay]\n",
    "    df = df.to_dict()\n",
    "    df_list = ['\\t'.join(re.split(':|_', x)) + '\\t' + str(y) for (x,y) in df.items()]\n",
    "    with open(out_bg, 'w') as f:\n",
    "        f.write('\\n'.join(df_list))\n",
    "    subprocess.run([\"bedGraphToBigWig\", out_bg, chrom_sizes, out_bw], check=True)\n",
    "    return"
   ]
  },
  {
   "cell_type": "code",
   "execution_count": 5,
   "id": "961ca3d0-a7de-4d30-8fb9-81c988c3f33a",
   "metadata": {},
   "outputs": [],
   "source": [
    "assays = ['DNase', 'CTCF', 'H3K27ac', 'H3K4me3', 'H3K36me3', 'H3K27me3', 'H3K9me3', 'H3K4me1']\n",
    "tissues = [124, 192, 213, 277, 323]\n",
    "pred_dir = '/project/deeprna_data/epigept/corgi_benchmark/raw_predictions'\n",
    "outdir = '/project/deeprna_data/epigept/corgi_benchmark/processed_predictions/'\n",
    "for tissue in tissues:\n",
    "    df_list = []\n",
    "    for file in [pred_dir + f'/tissue_{tissue}_bed_{i}.csv' for i in range(4)]:\n",
    "        df_list.append(pd.read_csv(file, index_col=[0]))\n",
    "    if len(df_list) > 0:\n",
    "        df = pd.concat(df_list)\n",
    "        for assay in assays:\n",
    "            process_predictions(df, assay, outdir, f'tissue_{tissue}')"
   ]
  }
 ],
 "metadata": {
  "kernelspec": {
   "display_name": "Python 3 (ipykernel)",
   "language": "python",
   "name": "python3"
  },
  "language_info": {
   "codemirror_mode": {
    "name": "ipython",
    "version": 3
   },
   "file_extension": ".py",
   "mimetype": "text/x-python",
   "name": "python",
   "nbconvert_exporter": "python",
   "pygments_lexer": "ipython3",
   "version": "3.12.2"
  }
 },
 "nbformat": 4,
 "nbformat_minor": 5
}
