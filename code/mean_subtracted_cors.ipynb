{
 "cells": [
  {
   "cell_type": "code",
   "execution_count": 1,
   "id": "80b6df53-1b9c-4715-b33d-03b2551ff8e6",
   "metadata": {},
   "outputs": [],
   "source": [
    "import pandas as pd\n",
    "import numpy as np\n",
    "import qnorm\n",
    "import matplotlib.pyplot as plt\n",
    "import seaborn as sns\n",
    "from scipy.stats import pearsonr, spearmanr"
   ]
  },
  {
   "cell_type": "code",
   "execution_count": 11,
   "id": "a488309f-d85b-4e83-bb73-90e01de8fbcd",
   "metadata": {},
   "outputs": [],
   "source": [
    "genes_df = pd.read_csv('/project/deeprna/data/Homo_sapiens.gene_info.tsv', sep='\\t')\n",
    "coding_genes = genes_df.loc[genes_df.type_of_gene == 'protein-coding', 'Symbol'].values"
   ]
  },
  {
   "cell_type": "code",
   "execution_count": 58,
   "id": "e5849bd5-91dd-440a-b7b0-106b8adc6c26",
   "metadata": {},
   "outputs": [],
   "source": [
    "def ms_corrs(pred_exp, true_exp, genes, out=None):\n",
    "    true = pd.read_csv(true_exp, index_col=0)\n",
    "    pred = pd.read_csv(pred_exp, index_col=0)\n",
    "    \n",
    "    true = true.loc[true.index.isin(genes)]\n",
    "    pred = pred.loc[pred.index.isin(genes)]\n",
    "    \n",
    "    true_ms = true.sub(true.mean(axis=1), axis=0)\n",
    "    pred_ms = pred.sub(pred.mean(axis=1), axis=0)\n",
    "    \n",
    "    result = {'sample':[], 'log-TPM-pearson':[], 'mean-subtracted-pearson':[], 'mean-sub-spearman':[], 'mean-sub-scaled-spearman':[]} \n",
    "\n",
    "    for i in range(true.shape[1]):\n",
    "        x = pred.iloc[:,i]\n",
    "        y = true.iloc[:,i]\n",
    "        x_ms = pred_ms.iloc[:,i]\n",
    "        y_ms = true_ms.iloc[:,i]\n",
    "        x_scaled = x_ms / (x + 0.001)\n",
    "        y_scaled = y_ms / (y + 0.001)\n",
    "        result['sample'].append(true.columns[i])\n",
    "        result['log-TPM-pearson'].append(pearsonr(x,y)[0])\n",
    "        result['mean-subtracted-pearson'].append(pearsonr(x_ms,y_ms)[0])\n",
    "        result['mean-sub-spearman'].append(spearmanr(x_ms,y_ms)[0])\n",
    "        result['mean-sub-scaled-spearman'].append(spearmanr(x_scaled,y_scaled)[0])\n",
    "\n",
    "    print(f'Number of genes:{len(x)}')\n",
    "    df = pd.DataFrame.from_dict(result)\n",
    "    if out:\n",
    "        df.to_csv(out)\n",
    "    return df"
   ]
  },
  {
   "cell_type": "code",
   "execution_count": 59,
   "id": "69c725d6-26be-498a-b3b5-00dc63c584bd",
   "metadata": {},
   "outputs": [
    {
     "name": "stdout",
     "output_type": "stream",
     "text": [
      "Number of genes:3029\n"
     ]
    },
    {
     "data": {
      "text/plain": [
       "log-TPM-pearson             0.854340\n",
       "mean-subtracted-pearson     0.382937\n",
       "mean-sub-spearman           0.385534\n",
       "mean-sub-scaled-spearman    0.361533\n",
       "dtype: float64"
      ]
     },
     "execution_count": 59,
     "metadata": {},
     "output_type": "execute_result"
    }
   ],
   "source": [
    "cross_celltype = ms_corrs(\n",
    "    '/project/deeprna_data/benchmark/gene_level_cross_celltype/all_expressions_grt.csv',\n",
    "    '/project/deeprna_data/benchmark/gene_level_cross_celltype/all_expressions_encode.csv',\n",
    "    coding_genes)\n",
    "    #out='/project/deeprna_data/benchmark/gene_level_cross_celltype/correlations_coding_genes.csv')\n",
    "\n",
    "cross_celltype.drop('sample', axis=1).mean()"
   ]
  },
  {
   "cell_type": "code",
   "execution_count": 60,
   "id": "11da0b6e-1fb4-41fd-baf4-acd0fc237ce2",
   "metadata": {},
   "outputs": [
    {
     "name": "stdout",
     "output_type": "stream",
     "text": [
      "Number of genes:1144\n"
     ]
    },
    {
     "data": {
      "text/plain": [
       "log-TPM-pearson             0.907115\n",
       "mean-subtracted-pearson     0.401265\n",
       "mean-sub-spearman           0.442215\n",
       "mean-sub-scaled-spearman    0.419479\n",
       "dtype: float64"
      ]
     },
     "execution_count": 60,
     "metadata": {},
     "output_type": "execute_result"
    }
   ],
   "source": [
    "cross_sequence = ms_corrs(\n",
    "    '/project/deeprna_data/benchmark/gene_level_cross_region/all_predicted_log_expr.csv',\n",
    "    '/project/deeprna_data/benchmark/gene_level_cross_region/all_true_log_expr.csv',\n",
    "    coding_genes,)\n",
    "    #out='/project/deeprna_data/benchmark/gene_level_cross_region/correlations_coding_genes.csv')\n",
    "\n",
    "cross_sequence.drop('sample', axis=1).mean()"
   ]
  },
  {
   "cell_type": "code",
   "execution_count": 61,
   "id": "a67ad585-bbdc-43f9-ac71-5bc3d8492e46",
   "metadata": {},
   "outputs": [
    {
     "name": "stdout",
     "output_type": "stream",
     "text": [
      "Number of genes:1144\n"
     ]
    },
    {
     "data": {
      "text/plain": [
       "log-TPM-pearson             0.910995\n",
       "mean-subtracted-pearson     0.290055\n",
       "mean-sub-spearman           0.295237\n",
       "mean-sub-scaled-spearman    0.280545\n",
       "dtype: float64"
      ]
     },
     "execution_count": 61,
     "metadata": {},
     "output_type": "execute_result"
    }
   ],
   "source": [
    "cross_both = ms_corrs(\n",
    "    '/project/deeprna_data/benchmark/gene_level_cross_both_2/all_expressions_grt.csv',\n",
    "    '/project/deeprna_data/benchmark/gene_level_cross_both_2/all_expressions_encode.csv',\n",
    "    coding_genes,)\n",
    "    #out='/project/deeprna_data/benchmark/gene_level_cross_both_2/correlations_coding_genes.csv')\n",
    "\n",
    "cross_both.drop('sample', axis=1).mean()"
   ]
  }
 ],
 "metadata": {
  "kernelspec": {
   "display_name": "Python 3 (ipykernel)",
   "language": "python",
   "name": "python3"
  },
  "language_info": {
   "codemirror_mode": {
    "name": "ipython",
    "version": 3
   },
   "file_extension": ".py",
   "mimetype": "text/x-python",
   "name": "python",
   "nbconvert_exporter": "python",
   "pygments_lexer": "ipython3",
   "version": "3.12.2"
  }
 },
 "nbformat": 4,
 "nbformat_minor": 5
}
